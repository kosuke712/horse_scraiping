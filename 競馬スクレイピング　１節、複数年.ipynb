{
 "cells": [
  {
   "cell_type": "code",
   "execution_count": null,
   "metadata": {},
   "outputs": [],
   "source": [
    "#1月\n",
    "from bs4 import BeautifulSoup\n",
    "from tqdm import tqdm\n",
    "import re\n",
    "import urllib\n",
    "import os.path,time\n",
    "import csv\n",
    "import numpy as np\n",
    "keys=['着','枠番','馬番','馬名','性齢','斤量','騎手','タイム','着差','タイム指数','通過','上り','単勝','人気','馬体重','調教タイム',\n",
    " '厩舎ｺﾒﾝﾄ','備考','調教師','馬主','賞金']\n",
    "\n",
    "conditions=['レース種類','年月','レースタイプ','天候','ダート','発走']\n",
    "#毎月開催でない、ヒットしたものだけスケレイピング\n",
    "for i in tqdm(range(2018060101,2018060108)):\n",
    "    for y in range(1,13):\n",
    "        #201806010101中山競馬場2018年1月のレースを全て取得指定のファイルに入れる#rangeの範囲を階段状にしないといけない\n",
    "        url = ('https://db.netkeiba.com/race/{}/' ).format(str(100*i+y))\n",
    "        html = urllib.request.urlopen(url)\n",
    "        soup=BeautifulSoup(html,'html.parser')\n",
    "        cond={'class':'txt_*','nowrap':'nowrap'}\n",
    "        time.sleep(1)\n",
    "        kihon_info=[]\n",
    "        title=soup.select('title')[0].text\n",
    "        title_1=title.replace('競馬データベース - netkeiba.com','').replace('｜',',').replace('|','').replace(' ','').split(',')\n",
    "        zyokyo=soup.select('diary_snap_cut > span')[0].text\n",
    "        zyokyo_1=zyokyo.replace('/',',').replace('\\xa0','').replace('天候 : ','').replace('ダート : ','')\\\n",
    "        .replace('発走 : ','').split(',')\n",
    "        kihon_info=title_1+(zyokyo_1)\n",
    "        values=[]\n",
    "        elems=soup.select('td',cond)\n",
    "        for elem in elems:\n",
    "            text = elem.getText()\n",
    "            values.append(text.replace('\\n',''))\n",
    "            n = 21\n",
    "        result = [values[idx:idx + n] for idx in range(0,len(values), n)]#内包表現、リスト分割\n",
    "        result_2=np.delete(result,-1,0)\n",
    "        result_3=np.delete(result_2,-1,0)\n",
    "    #def save(file_path, values):\n",
    "        filepath='/Users/kosuke/Documents/競馬データまとめ/2018/1節/'+str(100*i+y)+'.csv'\n",
    "        with open(filepath,'w', newline='') as f: #ファイルに書き込む\n",
    "            writer = csv.writer(f) #ファイルオブジェクトを引数に指定する\n",
    "            writer.writerow(keys) #一行目のフィールド名を書き込む\n",
    "            writer.writerows(result_3)#スクレイピングしたデータが1つのリストに入っているため1列に展開する\n",
    "            writer.writerow(conditions)\n",
    "            writer.writerow(kihon_info)\n"
   ]
  }
 ],
 "metadata": {
  "kernelspec": {
   "display_name": "Python 3",
   "language": "python",
   "name": "python3"
  },
  "language_info": {
   "codemirror_mode": {
    "name": "ipython",
    "version": 3
   },
   "file_extension": ".py",
   "mimetype": "text/x-python",
   "name": "python",
   "nbconvert_exporter": "python",
   "pygments_lexer": "ipython3",
   "version": "3.7.4"
  }
 },
 "nbformat": 4,
 "nbformat_minor": 2
}
